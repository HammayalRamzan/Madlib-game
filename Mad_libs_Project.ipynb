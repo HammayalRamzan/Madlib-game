{
  "nbformat": 4,
  "nbformat_minor": 0,
  "metadata": {
    "colab": {
      "provenance": [],
      "authorship_tag": "ABX9TyPgrlE0at8d174plECzRVpg",
      "include_colab_link": true
    },
    "kernelspec": {
      "name": "python3",
      "display_name": "Python 3"
    },
    "language_info": {
      "name": "python"
    }
  },
  "cells": [
    {
      "cell_type": "markdown",
      "metadata": {
        "id": "view-in-github",
        "colab_type": "text"
      },
      "source": [
        "<a href=\"https://colab.research.google.com/github/HammayalRamzan/Madlib-game/blob/main/Mad_libs_Project.ipynb\" target=\"_parent\"><img src=\"https://colab.research.google.com/assets/colab-badge.svg\" alt=\"Open In Colab\"/></a>"
      ]
    },
    {
      "cell_type": "code",
      "source": [
        "# Simple MadLibs Game\n",
        "\n",
        "# Importing random module for randomness\n",
        "import random"
      ],
      "metadata": {
        "id": "azhCndqgd0SM"
      },
      "execution_count": 29,
      "outputs": []
    },
    {
      "cell_type": "code",
      "source": [
        "# List of story templates\n",
        "stories = stories = [\n",
        "    \"One day, a {noun} {adjective} decided to {verb} at the {place}. It was an unforgettable experience!\",\n",
        "    \"A {noun} {adjective} was {verb} at the {place} when suddenly, something strange happened!\",\n",
        "    \"In the {place}, a {adjective} {noun} started to {verb}. Everyone was amazed!\"\n",
        "]"
      ],
      "metadata": {
        "id": "iI7e7JQlehqd"
      },
      "execution_count": 30,
      "outputs": []
    },
    {
      "cell_type": "code",
      "source": [
        "# Asking user for input\n",
        "noun = input(\"Enter a noun: \")\n",
        "verb = input(\"Enter a verb: \")\n",
        "adjective = input(\"Enter an adjective: \")\n",
        "place = input(\"Enter a place: \")\n",
        "\n",
        "# Choosing a random story template\n",
        "story = random.choice(stories).format(noun=noun, verb=verb, adjective=adjective, place=place)\n",
        "\n",
        "# Printing the final story\n",
        "print(\"\\nHere's your MadLib story:\\n\")\n",
        "print(story)"
      ],
      "metadata": {
        "colab": {
          "base_uri": "https://localhost:8080/"
        },
        "id": "jPFHU2g8esRK",
        "outputId": "f77ce635-13e8-4d53-9d14-075b7eaaa2a9"
      },
      "execution_count": 31,
      "outputs": [
        {
          "output_type": "stream",
          "name": "stdout",
          "text": [
            "Enter a noun: man\n",
            "Enter a verb: decide\n",
            "Enter an adjective: go\n",
            "Enter a place: garden\n",
            "\n",
            "Here's your MadLib story:\n",
            "\n",
            "One day, a man go decided to decide at the garden. It was an unforgettable experience!\n"
          ]
        }
      ]
    }
  ]
}